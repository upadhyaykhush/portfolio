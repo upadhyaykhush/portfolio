{
  "nbformat": 4,
  "nbformat_minor": 0,
  "metadata": {
    "colab": {
      "name": "Term Project.ipynb",
      "provenance": [],
      "collapsed_sections": []
    },
    "kernelspec": {
      "name": "python3",
      "display_name": "Python 3"
    },
    "language_info": {
      "name": "python"
    }
  },
  "cells": [
    {
      "cell_type": "code",
      "metadata": {
        "id": "oMW7G4L6sNVJ"
      },
      "source": [
        "import warnings\n",
        "\n",
        "import pandas as pd\n",
        "\n",
        "from sklearn.metrics import mean_absolute_error, mean_squared_error\n",
        "from sklearn.model_selection import train_test_split\n",
        "from sklearn.preprocessing import LabelEncoder\n",
        "from sklearn.svm import SVC"
      ],
      "execution_count": 40,
      "outputs": []
    },
    {
      "cell_type": "code",
      "metadata": {
        "id": "YRMvnQBlswsn"
      },
      "source": [
        "warnings.filterwarnings(\"ignore\", category=FutureWarning)\n",
        "warnings.filterwarnings(\"ignore\", category=DeprecationWarning)"
      ],
      "execution_count": 41,
      "outputs": []
    },
    {
      "cell_type": "code",
      "metadata": {
        "id": "YNfQYKNusQ-5"
      },
      "source": [
        "dataframe = pd.read_excel('sample_data/cattle_dataset.xlsx')\n",
        "label_encoder = LabelEncoder()"
      ],
      "execution_count": 42,
      "outputs": []
    },
    {
      "cell_type": "code",
      "metadata": {
        "id": "E_inmAJksVah"
      },
      "source": [
        "def data_preprocessing(dataframe, column_name_list):\n",
        "    for index in column_name_list:\n",
        "        dataframe[index] = label_encoder.fit_transform(dataframe[index])\n",
        "        print(dataframe[index])"
      ],
      "execution_count": 43,
      "outputs": []
    },
    {
      "cell_type": "code",
      "metadata": {
        "colab": {
          "base_uri": "https://localhost:8080/"
        },
        "id": "JO3CEtTqsYHV",
        "outputId": "2f1e63e2-b90c-4ab8-eda9-3df90cfe6087"
      },
      "source": [
        "data_preprocessing(dataframe, ['faecal_consistency', 'health_status', 'breed_type'])"
      ],
      "execution_count": 44,
      "outputs": [
        {
          "output_type": "stream",
          "text": [
            "0      3\n",
            "1      4\n",
            "2      4\n",
            "3      0\n",
            "4      4\n",
            "      ..\n",
            "173    2\n",
            "174    1\n",
            "175    3\n",
            "176    5\n",
            "177    5\n",
            "Name: faecal_consistency, Length: 178, dtype: int64\n",
            "0      1\n",
            "1      0\n",
            "2      0\n",
            "3      1\n",
            "4      0\n",
            "      ..\n",
            "173    1\n",
            "174    1\n",
            "175    1\n",
            "176    1\n",
            "177    1\n",
            "Name: health_status, Length: 178, dtype: int64\n",
            "0      0\n",
            "1      1\n",
            "2      0\n",
            "3      1\n",
            "4      1\n",
            "      ..\n",
            "173    0\n",
            "174    0\n",
            "175    0\n",
            "176    0\n",
            "177    0\n",
            "Name: breed_type, Length: 178, dtype: int64\n"
          ],
          "name": "stdout"
        }
      ]
    },
    {
      "cell_type": "code",
      "metadata": {
        "id": "HHhGUQhKsbVl"
      },
      "source": [
        "independent_X = dataframe[\n",
        "    ['body_temperature', 'breed_type', 'milk_production', 'respiratory_rate', 'walking_capacity', 'sleeping_duration',\n",
        "     'body_condition_score', 'heart_rate', 'eating_duration', 'lying_down_duration', 'ruminating', 'rumen_fill',\n",
        "     'faecal_consistency']]"
      ],
      "execution_count": 45,
      "outputs": []
    },
    {
      "cell_type": "code",
      "metadata": {
        "colab": {
          "base_uri": "https://localhost:8080/"
        },
        "id": "wXy0l9lmseyi",
        "outputId": "b54217b7-5ff0-421d-f0e9-19ec38e8a212"
      },
      "source": [
        "dependent_y = dataframe['health_status']\n",
        "print('independent_X=\\n', independent_X['body_temperature'])\n",
        "print('dependent_y=\\n', dependent_y)"
      ],
      "execution_count": 46,
      "outputs": [
        {
          "output_type": "stream",
          "text": [
            "independent_X=\n",
            " 0      38.2\n",
            "1      38.9\n",
            "2      38.6\n",
            "3      39.5\n",
            "4      39.7\n",
            "       ... \n",
            "173    39.9\n",
            "174    40.2\n",
            "175    39.8\n",
            "176    39.5\n",
            "177    39.6\n",
            "Name: body_temperature, Length: 178, dtype: float64\n",
            "dependent_y=\n",
            " 0      1\n",
            "1      0\n",
            "2      0\n",
            "3      1\n",
            "4      0\n",
            "      ..\n",
            "173    1\n",
            "174    1\n",
            "175    1\n",
            "176    1\n",
            "177    1\n",
            "Name: health_status, Length: 178, dtype: int64\n"
          ],
          "name": "stdout"
        }
      ]
    },
    {
      "cell_type": "code",
      "metadata": {
        "colab": {
          "base_uri": "https://localhost:8080/"
        },
        "id": "uPjKzdlNsfj_",
        "outputId": "2796e0db-0be1-4708-a208-86563f7af1b3"
      },
      "source": [
        "X_train, X_test, y_train, y_test = train_test_split(independent_X, dependent_y, test_size=0.20)\n",
        "X_train = X_train.values\n",
        "X_test = X_test.values\n",
        "y_train = y_train.ravel()\n",
        "y_test = y_test.ravel()\n",
        "print(\"X_train=\", X_train.shape)\n",
        "print(\"y_train=\", y_train.shape)\n",
        "print(\"X_test=\", X_test.shape)\n",
        "print(\"y_test=\", y_test.shape)"
      ],
      "execution_count": 47,
      "outputs": [
        {
          "output_type": "stream",
          "text": [
            "X_train= (142, 13)\n",
            "y_train= (142,)\n",
            "X_test= (36, 13)\n",
            "y_test= (36,)\n"
          ],
          "name": "stdout"
        }
      ]
    },
    {
      "cell_type": "code",
      "metadata": {
        "colab": {
          "base_uri": "https://localhost:8080/"
        },
        "id": "_n2kVpDesrjy",
        "outputId": "6bdd5087-9e89-45b4-84be-c951d9befbb0"
      },
      "source": [
        "cattle_classifier = SVC(probability=True, kernel='rbf')\n",
        "cattle_classifier.fit(X_train, y_train)\n",
        "prediction = cattle_classifier.predict(X_test)\n",
        "print(prediction)\n",
        "print(\"MAE=%.4f\" % mean_absolute_error(y_test, prediction))\n",
        "print(\"MSE=%.4f\" % mean_squared_error(y_test, prediction))\n",
        "result = cattle_classifier.score(X_test, y_test)\n",
        "print('Score=', result)"
      ],
      "execution_count": 48,
      "outputs": [
        {
          "output_type": "stream",
          "text": [
            "[0 0 1 1 1 1 1 1 1 1 1 0 0 0 0 1 1 0 1 1 0 1 1 1 1 1 0 1 1 0 1 0 0 0 0 1]\n",
            "MAE=0.0278\n",
            "MSE=0.0278\n",
            "Score= 0.9722222222222222\n"
          ],
          "name": "stdout"
        }
      ]
    },
    {
      "cell_type": "code",
      "metadata": {
        "id": "b8w_ouDXs_Pn"
      },
      "source": [
        "dataframe = pd.read_excel('sample_data/cattle_dataset.xlsx')\n",
        "label_encoder = LabelEncoder()\n",
        "label_encoder.fit_transform(dataframe['health_status'])\n",
        "original_health_status_list = list(dataframe['health_status'])"
      ],
      "execution_count": 49,
      "outputs": []
    },
    {
      "cell_type": "code",
      "metadata": {
        "colab": {
          "base_uri": "https://localhost:8080/"
        },
        "id": "fIkuLsp_tnnX",
        "outputId": "aba7888d-0db1-4d0c-9eec-4c8344b5951f"
      },
      "source": [
        "data_preprocessing(dataframe, ['faecal_consistency', 'breed_type'])\n",
        "X_test = dataframe[\n",
        "    ['body_temperature', 'breed_type', 'milk_production', 'respiratory_rate', 'walking_capacity', 'sleeping_duration',\n",
        "     'body_condition_score', 'heart_rate', 'eating_duration', 'lying_down_duration', 'ruminating', 'rumen_fill',\n",
        "     'faecal_consistency']]\n",
        "X_test = X_test.to_numpy()\n",
        "prediction = cattle_classifier.predict(X_test)"
      ],
      "execution_count": 50,
      "outputs": [
        {
          "output_type": "stream",
          "text": [
            "0      3\n",
            "1      4\n",
            "2      4\n",
            "3      0\n",
            "4      4\n",
            "      ..\n",
            "173    2\n",
            "174    1\n",
            "175    3\n",
            "176    5\n",
            "177    5\n",
            "Name: faecal_consistency, Length: 178, dtype: int64\n",
            "0      0\n",
            "1      1\n",
            "2      0\n",
            "3      1\n",
            "4      1\n",
            "      ..\n",
            "173    0\n",
            "174    0\n",
            "175    0\n",
            "176    0\n",
            "177    0\n",
            "Name: breed_type, Length: 178, dtype: int64\n"
          ],
          "name": "stdout"
        }
      ]
    },
    {
      "cell_type": "code",
      "metadata": {
        "id": "j3nr8vZAtrKb"
      },
      "source": [
        "predicted_health_status_list = []\n",
        "for i in prediction:\n",
        "    data = label_encoder.inverse_transform([i])\n",
        "    predicted_health_status_list.append(label_encoder.inverse_transform([i]))"
      ],
      "execution_count": 51,
      "outputs": []
    },
    {
      "cell_type": "code",
      "metadata": {
        "id": "Rf9JnsAktvoJ"
      },
      "source": [
        "column_name = ['Original Output', 'Prediction Output']\n",
        "result_df = pd.DataFrame(\n",
        "    {'Original Output': original_health_status_list, 'Prediction Output': predicted_health_status_list},\n",
        "    columns=column_name)\n",
        "result_df.to_csv('sample_data/ResultCattle.csv')"
      ],
      "execution_count": 52,
      "outputs": []
    }
  ]
}